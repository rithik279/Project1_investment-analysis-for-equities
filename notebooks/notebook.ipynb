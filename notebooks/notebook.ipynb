{
 "cells": [
  {
   "cell_type": "code",
   "execution_count": null,
   "id": "315bee3e",
   "metadata": {
    "vscode": {
     "languageId": "plaintext"
    }
   },
   "outputs": [],
   "source": [
    "line1 = px.line(data1, x=data1.index , y= data1['MS'] ,  title = 'Closing Price of MS, BAC, & JPM', color_discrete_sequence=\"blue\").show()\n",
    "line2 = px.line(data1, x=data1.index , y= data1['BAC'] ,  title = 'Closing Price of MS, BAC, & JPM', color_discrete_sequence=\"red\").show()\n",
    "line3 = px.line(data1, x=data1.index , y= data1['JPM'] ,  title = 'Closing Price of MS, BAC, & JPM', color_discrete_sequence=\"green\").show()"
   ]
  }
 ],
 "metadata": {
  "language_info": {
   "name": "python"
  }
 },
 "nbformat": 4,
 "nbformat_minor": 5
}
